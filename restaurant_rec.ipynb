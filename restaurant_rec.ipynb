{
 "cells": [
  {
   "cell_type": "markdown",
   "metadata": {
    "collapsed": false
   },
   "source": [
    "We cut 5000 reviews from the whole dataset and transform the explicit feedback to implicit. Now we got a user-item matrix with 1 meaning the user has been to that restaurant (and made review) and 0 meaning the user has never been to that restaurant."
   ]
  },
  {
   "cell_type": "code",
   "execution_count": null,
   "metadata": {
    "collapsed": true
   },
   "outputs": [],
   "source": [
    "import json\n",
    "import numpy as np\n",
    "\n",
    "user = {}\n",
    "item = {}\n",
    "i=0\n",
    "j=0\n",
    "for line in open('data.json','r'):\n",
    "    review = json.loads(line)\n",
    "    if review[\"user_id\"] not in user:\n",
    "        user[review[\"user_id\"]]=i\n",
    "        i+=1\n",
    "    if review[\"business_id\"] not in item:\n",
    "        item[review[\"business_id\"]]=j\n",
    "        j+=1\n",
    "\n",
    "print len(user)\n",
    "print len(item)"
   ]
  },
  {
   "cell_type": "code",
   "execution_count": null,
   "metadata": {
    "collapsed": false
   },
   "outputs": [],
   "source": [
    "r = np.zeros((len(user),len(item),))\n",
    "count = 0\n",
    "for line in open('data.json','r'):\n",
    "    review = json.loads(line)\n",
    "    r[user[review[\"user_id\"]]][item[review[\"business_id\"]]]=1\n",
    "for i in range(4573):\n",
    "    if np.sum(r[i])>1:\n",
    "        count += 1\n",
    "        print i,np.sum(r[i])\n",
    "print count"
   ]
  }
 ],
 "metadata": {
  "anaconda-cloud": {},
  "kernelspec": {
   "display_name": "Python [conda env:cs670]",
   "language": "python",
   "name": "conda-env-cs670-py"
  },
  "language_info": {
   "codemirror_mode": {
    "name": "ipython",
    "version": 2
   },
   "file_extension": ".py",
   "mimetype": "text/x-python",
   "name": "python",
   "nbconvert_exporter": "python",
   "pygments_lexer": "ipython2",
   "version": "2.7.13"
  }
 },
 "nbformat": 4,
 "nbformat_minor": 2
}
